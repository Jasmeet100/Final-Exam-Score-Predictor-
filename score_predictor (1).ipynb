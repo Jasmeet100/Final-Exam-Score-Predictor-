{
  "nbformat": 4,
  "nbformat_minor": 0,
  "metadata": {
    "colab": {
      "provenance": []
    },
    "kernelspec": {
      "name": "python3",
      "display_name": "Python 3"
    },
    "language_info": {
      "name": "python"
    }
  },
  "cells": [
    {
      "cell_type": "markdown",
      "source": [
        "# *Machine Learning model to predict students score*"
      ],
      "metadata": {
        "id": "Oqn6dumawcOJ"
      }
    },
    {
      "cell_type": "code",
      "source": [
        "import pandas as pd\n",
        "import numpy as np\n",
        "from sklearn.model_selection import train_test_split\n",
        "from sklearn.preprocessing import StandardScaler\n",
        "from sklearn.linear_model import LinearRegression"
      ],
      "metadata": {
        "id": "9fwsziq7wsSe"
      },
      "execution_count": 14,
      "outputs": []
    },
    {
      "cell_type": "code",
      "source": [
        "dataset = pd.read_csv('/content/student_data (1).csv')\n",
        "X = dataset.iloc[:,:-1]\n",
        "y = dataset.iloc[:,-1]"
      ],
      "metadata": {
        "id": "2LeLMRD7oeOP"
      },
      "execution_count": 15,
      "outputs": []
    },
    {
      "cell_type": "code",
      "source": [
        "X_train, X_test, y_train, y_test = train_test_split(X, y, test_size = 0.2, random_state = 0)"
      ],
      "metadata": {
        "id": "3JZBQR6PGN5R"
      },
      "execution_count": 16,
      "outputs": []
    },
    {
      "cell_type": "code",
      "source": [
        "'''sc = StandardScaler()'''"
      ],
      "metadata": {
        "id": "pdeSRvDQGzPi",
        "colab": {
          "base_uri": "https://localhost:8080/",
          "height": 37
        },
        "outputId": "6dfd1d6e-fb0c-469b-89c5-365c3554fbc2"
      },
      "execution_count": 17,
      "outputs": [
        {
          "output_type": "execute_result",
          "data": {
            "text/plain": [
              "'sc = StandardScaler()'"
            ],
            "application/vnd.google.colaboratory.intrinsic+json": {
              "type": "string"
            }
          },
          "metadata": {},
          "execution_count": 17
        }
      ]
    },
    {
      "cell_type": "code",
      "source": [
        "'''X_train = sc.fit_transform(X_train)\n",
        "X_test = sc.transform(X_test)'''"
      ],
      "metadata": {
        "id": "uBdJxdLkHPJd",
        "colab": {
          "base_uri": "https://localhost:8080/",
          "height": 37
        },
        "outputId": "66a733e4-ae61-4be9-f0b1-bae82f4a4f03"
      },
      "execution_count": 18,
      "outputs": [
        {
          "output_type": "execute_result",
          "data": {
            "text/plain": [
              "'X_train = sc.fit_transform(X_train)\\nX_test = sc.transform(X_test)'"
            ],
            "application/vnd.google.colaboratory.intrinsic+json": {
              "type": "string"
            }
          },
          "metadata": {},
          "execution_count": 18
        }
      ]
    },
    {
      "cell_type": "code",
      "source": [
        "regressor = LinearRegression()\n",
        "regressor.fit(X_train, y_train)\n",
        "y_pred = regressor.predict(X_test)"
      ],
      "metadata": {
        "id": "QRp28ZcDHt6w"
      },
      "execution_count": 19,
      "outputs": []
    },
    {
      "cell_type": "code",
      "source": [
        "np.set_printoptions(precision = 2)"
      ],
      "metadata": {
        "id": "ZvI6NFBtJxZ0"
      },
      "execution_count": 20,
      "outputs": []
    },
    {
      "cell_type": "code",
      "source": [
        "print(\"predicted score V/S real score \")\n",
        "print(np.concatenate((y_pred.reshape(len(y_pred), 1), y_test.values.reshape(len(y_test), 1)),1))"
      ],
      "metadata": {
        "id": "92uKHX0_MYue",
        "colab": {
          "base_uri": "https://localhost:8080/"
        },
        "outputId": "becbf2f0-13ac-49b9-b243-78d55be9d4de"
      },
      "execution_count": 21,
      "outputs": [
        {
          "output_type": "stream",
          "name": "stdout",
          "text": [
            "predicted score V/S real score \n",
            "[[50.77 43.37]\n",
            " [55.85 53.93]\n",
            " [62.2  58.87]\n",
            " [65.61 65.3 ]\n",
            " [50.26 56.6 ]\n",
            " [50.74 46.39]\n",
            " [56.01 62.44]\n",
            " [80.74 79.56]\n",
            " [66.12 70.39]\n",
            " [78.39 76.04]\n",
            " [74.98 70.53]\n",
            " [55.18 56.54]\n",
            " [35.61 34.19]\n",
            " [43.66 52.16]\n",
            " [31.73 29.58]\n",
            " [74.02 78.2 ]\n",
            " [77.39 77.26]\n",
            " [36.98 42.26]\n",
            " [54.61 49.36]\n",
            " [42.31 48.22]\n",
            " [74.98 72.96]\n",
            " [54.6  54.41]\n",
            " [47.87 43.78]\n",
            " [43.84 37.22]\n",
            " [72.33 71.5 ]\n",
            " [76.56 75.66]\n",
            " [41.68 49.55]\n",
            " [46.18 48.85]\n",
            " [38.8  40.6 ]\n",
            " [75.04 79.23]\n",
            " [79.06 91.67]\n",
            " [45.21 45.88]\n",
            " [65.11 63.9 ]\n",
            " [71.5  75.65]\n",
            " [41.86 42.51]\n",
            " [46.52 41.08]\n",
            " [34.08 32.12]\n",
            " [79.89 82.45]\n",
            " [83.43 90.51]\n",
            " [67.91 65.66]]\n"
          ]
        }
      ]
    },
    {
      "cell_type": "code",
      "source": [
        "print(regressor.predict([[91,13]]))"
      ],
      "metadata": {
        "id": "Y7UwM9oNClOR",
        "colab": {
          "base_uri": "https://localhost:8080/"
        },
        "outputId": "6a3316e7-0e34-459f-e124-27cf8dbc53ff"
      },
      "execution_count": 22,
      "outputs": [
        {
          "output_type": "stream",
          "name": "stdout",
          "text": [
            "[48.03]\n"
          ]
        },
        {
          "output_type": "stream",
          "name": "stderr",
          "text": [
            "/usr/local/lib/python3.11/dist-packages/sklearn/utils/validation.py:2739: UserWarning: X does not have valid feature names, but LinearRegression was fitted with feature names\n",
            "  warnings.warn(\n"
          ]
        }
      ]
    },
    {
      "cell_type": "code",
      "source": [],
      "metadata": {
        "id": "dHw7I4-tDHyH"
      },
      "execution_count": 22,
      "outputs": []
    }
  ]
}